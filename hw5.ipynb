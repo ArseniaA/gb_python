{
 "cells": [
  {
   "cell_type": "markdown",
   "metadata": {},
   "source": [
    "# 1 task"
   ]
  },
  {
   "cell_type": "code",
   "execution_count": 4,
   "metadata": {},
   "outputs": [
    {
     "name": "stdout",
     "output_type": "stream",
     "text": [
      "kek\n",
      "lol\n",
      "arbidol\n",
      "\n"
     ]
    }
   ],
   "source": [
    "with open(\"output1.txt\", \"w\") as f:\n",
    "    s = input()\n",
    "    while s != '':\n",
    "        f.write(s)\n",
    "        f.write('\\n')\n",
    "        s = input()"
   ]
  },
  {
   "cell_type": "code",
   "execution_count": 5,
   "metadata": {},
   "outputs": [
    {
     "name": "stdout",
     "output_type": "stream",
     "text": [
      "kek\r\n",
      "lol\r\n",
      "arbidol\r\n"
     ]
    }
   ],
   "source": [
    "!cat output1.txt"
   ]
  },
  {
   "cell_type": "markdown",
   "metadata": {},
   "source": [
    "# 2 task"
   ]
  },
  {
   "cell_type": "code",
   "execution_count": 41,
   "metadata": {},
   "outputs": [
    {
     "name": "stdout",
     "output_type": "stream",
     "text": [
      "lol\r\n",
      "kek cheburek\r\n"
     ]
    }
   ],
   "source": [
    "!touch input2.txt # создать файл\n",
    "!echo \"lol\" > input2.txt # записать в начало строку\n",
    "!echo \"kek cheburek\" >> input2.txt # записать в конец строку\n",
    "!cat input2.txt # вывести содержимое"
   ]
  },
  {
   "cell_type": "code",
   "execution_count": 42,
   "metadata": {},
   "outputs": [
    {
     "name": "stdout",
     "output_type": "stream",
     "text": [
      "have 1 words\n",
      "have 2 words\n",
      "have lines 2\n"
     ]
    }
   ],
   "source": [
    "lines = 0\n",
    "\n",
    "with open(\"input2.txt\", 'r') as f:\n",
    "    for line in f:\n",
    "        words_count = len(line.split())\n",
    "        print(f\"have {words_count} words\")\n",
    "        lines += 1\n",
    "\n",
    "print(f\"have lines {lines}\")"
   ]
  },
  {
   "cell_type": "markdown",
   "metadata": {},
   "source": [
    "# 3 task"
   ]
  },
  {
   "cell_type": "code",
   "execution_count": 24,
   "metadata": {},
   "outputs": [
    {
     "name": "stdout",
     "output_type": "stream",
     "text": [
      "Ivanov 10000\n",
      "Kekov 21000\n",
      "Memov 34000\n"
     ]
    }
   ],
   "source": [
    "%%bash\n",
    "\n",
    "echo \"\"\"Ivanov 10000\n",
    "Kekov 21000\n",
    "Memov 34000\"\"\" > input3.txt\n",
    "\n",
    "cat input3.txt"
   ]
  },
  {
   "cell_type": "code",
   "execution_count": 32,
   "metadata": {},
   "outputs": [
    {
     "name": "stdout",
     "output_type": "stream",
     "text": [
      "Ivanov\n",
      "have average zp ~21667\n"
     ]
    }
   ],
   "source": [
    "n_people = 0\n",
    "sum_money = 0\n",
    "\n",
    "with open(\"input3.txt\", 'r') as f:\n",
    "    for line in f:\n",
    "        family, money = line.split()\n",
    "        money = int(money)\n",
    "        if money < 20_000:\n",
    "            print(family)\n",
    "        sum_money += money\n",
    "        n_people += 1\n",
    "\n",
    "print(f\"have average zp ~{sum_money / n_people:.0f}\")"
   ]
  },
  {
   "cell_type": "markdown",
   "metadata": {},
   "source": [
    "# 4 task"
   ]
  },
  {
   "cell_type": "code",
   "execution_count": 33,
   "metadata": {},
   "outputs": [
    {
     "name": "stdout",
     "output_type": "stream",
     "text": [
      "One — 1\n",
      "Two — 2\n",
      "Three — 3\n",
      "Four — 4\n"
     ]
    }
   ],
   "source": [
    "%%bash\n",
    "\n",
    "echo \"\"\"One — 1\n",
    "Two — 2\n",
    "Three — 3\n",
    "Four — 4\"\"\" > input4.txt\n",
    "\n",
    "cat input4.txt"
   ]
  },
  {
   "cell_type": "code",
   "execution_count": 39,
   "metadata": {},
   "outputs": [],
   "source": [
    "with open(\"input4.txt\", \"r\") as f_in:\n",
    "    with open(\"output4.txt\", \"w\") as f_out:\n",
    "        for s in f_in:\n",
    "            s = s \\\n",
    "                .replace(\"One\", \"Один\") \\\n",
    "                .replace(\"Two\", \"Два\") \\\n",
    "                .replace(\"Three\", \"Три\") \\\n",
    "                .replace(\"Four\", \"Четыре\")\n",
    "            \n",
    "            f_out.write(s)"
   ]
  },
  {
   "cell_type": "code",
   "execution_count": 40,
   "metadata": {},
   "outputs": [
    {
     "name": "stdout",
     "output_type": "stream",
     "text": [
      "Один — 1\r\n",
      "Два — 2\r\n",
      "Три — 3\r\n",
      "Четыре — 4\r\n"
     ]
    }
   ],
   "source": [
    "!cat output4.txt"
   ]
  },
  {
   "cell_type": "markdown",
   "metadata": {},
   "source": [
    "# 5 task"
   ]
  },
  {
   "cell_type": "code",
   "execution_count": 46,
   "metadata": {},
   "outputs": [
    {
     "name": "stdout",
     "output_type": "stream",
     "text": [
      "1 2 3 4\r\n"
     ]
    }
   ],
   "source": [
    "!touch input5.txt \n",
    "!echo \"1 2 3 4\" > input5.txt \n",
    "!cat input5.txt "
   ]
  },
  {
   "cell_type": "code",
   "execution_count": 48,
   "metadata": {},
   "outputs": [
    {
     "name": "stdout",
     "output_type": "stream",
     "text": [
      "10\n"
     ]
    }
   ],
   "source": [
    "with open(\"input5.txt\", \"r\") as f:\n",
    "    print(sum(map(int, f.read().split())))"
   ]
  },
  {
   "cell_type": "code",
   "execution_count": null,
   "metadata": {},
   "outputs": [],
   "source": []
  },
  {
   "cell_type": "code",
   "execution_count": null,
   "metadata": {},
   "outputs": [],
   "source": []
  }
 ],
 "metadata": {
  "kernelspec": {
   "display_name": "Python 3",
   "language": "python",
   "name": "python3"
  },
  "language_info": {
   "codemirror_mode": {
    "name": "ipython",
    "version": 3
   },
   "file_extension": ".py",
   "mimetype": "text/x-python",
   "name": "python",
   "nbconvert_exporter": "python",
   "pygments_lexer": "ipython3",
   "version": "3.8.5"
  }
 },
 "nbformat": 4,
 "nbformat_minor": 4
}
