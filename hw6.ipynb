{
 "cells": [
  {
   "cell_type": "markdown",
   "metadata": {},
   "source": [
    "### Практическое задание 6"
   ]
  },
  {
   "cell_type": "markdown",
   "metadata": {},
   "source": [
    "#### 1. Создать класс TrafficLight (светофор) и определить у него один атрибут color (цвет) и метод running (запуск). Атрибут реализовать как приватный. В рамках метода реализовать переключение светофора в режимы: красный, желтый, зеленый. Продолжительность первого состояния (красный) составляет 7 секунд, второго (желтый) — 2 секунды, третьего (зеленый) — на ваше усмотрение. Переключение между режимами должно осуществляться только в указанном порядке (красный, желтый, зеленый). Проверить работу примера, создав экземпляр и вызвав описанный метод.\n",
    "#### Задачу можно усложнить, реализовав проверку порядка режимов, и при его нарушении выводить соответствующее сообщение и завершать скрипт."
   ]
  },
  {
   "cell_type": "code",
   "execution_count": null,
   "metadata": {},
   "outputs": [],
   "source": []
  },
  {
   "cell_type": "markdown",
   "metadata": {},
   "source": [
    "#### 2. Реализовать класс Road (дорога), в котором определить атрибуты: length (длина), width (ширина). Значения данных атрибутов должны передаваться при создании экземпляра класса. Атрибуты сделать защищенными. Определить метод расчета массы асфальта, необходимого для покрытия всего дорожного полотна. Использовать формулу: длина * ширина * масса асфальта для покрытия одного кв метра дороги асфальтом, толщиной в 1 см * чи сло см толщины полотна. Проверить работу метода.\n",
    "#### Например: 20м * 5000м * 25кг * 5см = 12500 т"
   ]
  },
  {
   "cell_type": "code",
   "execution_count": 31,
   "metadata": {},
   "outputs": [
    {
     "data": {
      "text/plain": [
       "'Масса асфальта для покрытия дорожного полотна: 12500 т'"
      ]
     },
     "execution_count": 31,
     "metadata": {},
     "output_type": "execute_result"
    }
   ],
   "source": [
    "class Road():\n",
    "    def __init__(self, length, width, weigth, high):\n",
    "        self._length = length\n",
    "        self._width = width\n",
    "        self.weigth = weigth\n",
    "        self.high = high\n",
    "\n",
    "    def mass(self):\n",
    "        massa = self._length * self._width * self.weigth * self.high // 1000\n",
    "        return f'Масса асфальта для покрытия дорожного полотна: {massa} т'\n",
    "\n",
    "r = Road(20, 5000, 25, 5)\n",
    "r.mass()"
   ]
  },
  {
   "cell_type": "markdown",
   "metadata": {},
   "source": [
    "#### 3. Реализовать базовый класс Worker (работник), в котором определить атрибуты: name, surname, position (должность), income (доход). Последний атрибут должен быть защищенным и ссылаться на словарь, содержащий элементы: оклад и премия, например, {\"wage\": wage, \"bonus\": bonus}. Создать класс Position (должность) на базе класса Worker. В классе Position реализовать методы получения полного имени сотрудника (get_full_name) и дохода с учетом премии (get_total_income). Проверить работу примера на реальных данных (создать экземпляры класса Position, передать данные, проверить значения атрибутов, вызвать методы экземпляров)."
   ]
  },
  {
   "cell_type": "code",
   "execution_count": 29,
   "metadata": {},
   "outputs": [
    {
     "name": "stdout",
     "output_type": "stream",
     "text": [
      "Полное имя сотрудника - Иван Иванов\n",
      "Веб-разработчик\n",
      "Доход состудника: 115000\n"
     ]
    }
   ],
   "source": [
    "class Worker():\n",
    "    def __init__(self, name, surname, position, wage, bonus):\n",
    "        self.name = name\n",
    "        self.surname = surname\n",
    "        self.position = position\n",
    "        self._income = {\"wage\": wage, \"bonus\": bonus}\n",
    "\n",
    "    \n",
    "class Position(Worker):\n",
    "    def get_full_name(self):\n",
    "        return f'Полное имя сотрудника - {self.name} {self.surname}'\n",
    "    \n",
    "    def get_total_income(self):\n",
    "        total_income = self._income.get('wage') + self._income.get('bonus')\n",
    "        return f'Доход состудника: {total_income}'\n",
    "        \n",
    "a = Position('Иван', 'Иванов', 'Веб-разработчик', 90000, 25000)\n",
    "print(a.get_full_name())\n",
    "print(a.position)\n",
    "print(a.get_total_income())    "
   ]
  },
  {
   "cell_type": "markdown",
   "metadata": {},
   "source": [
    "#### 4. Реализуйте базовый класс Car. У данного класса должны быть следующие атрибуты: speed, color, name, is_police (булево). А также методы: go, stop, turn(direction), которые должны сообщать, что машина поехала, остановилась, повернула (куда). Опишите несколько дочерних классов: TownCar, SportCar, WorkCar, PoliceCar. Добавьте в базовый класс метод show_speed, который должен показывать текущую скорость автомобиля. Для классов TownCar и WorkCar переопределите метод show_speed. При значении скорости свыше 60 (TownCar) и 40 (WorkCar) должно выводиться сообщение о превышении скорости.\n",
    "#### Создайте экземпляры классов, передайте значения атрибутов. Выполните доступ к атрибутам, выведите результат. Выполните вызов методов и также покажите результат."
   ]
  },
  {
   "cell_type": "code",
   "execution_count": 48,
   "metadata": {},
   "outputs": [
    {
     "name": "stdout",
     "output_type": "stream",
     "text": [
      "Текущая скорость Ford 60\n",
      "Ford, скорость в пределах нормы\n"
     ]
    }
   ],
   "source": [
    "class Car():\n",
    "    def __init__(self, speed, color, name, is_police):\n",
    "        self.speed = speed\n",
    "        self.color = color\n",
    "        self.name = name\n",
    "        self.is_police = is_police\n",
    "    \n",
    "    def go(self):\n",
    "        return f'Машина поехала'\n",
    "    \n",
    "    def stop(self):\n",
    "        return f'Машина остановилась'\n",
    "        \n",
    "    def turn(self, direction):\n",
    "        return f'Машина повернула {direction}'\n",
    "    \n",
    "    def show_speed(self):\n",
    "        return f'Текущая скорость {self.name} {self.speed}'\n",
    "    \n",
    "    \n",
    "class TownCar(Car):\n",
    "    def show_speed(self):\n",
    "        print(f'Текущая скорость {self.name} {self.speed}') \n",
    "    \n",
    "        if self.speed > 60:\n",
    "            print(f'{self.name}, превышение скорости') \n",
    "        else:\n",
    "            print(f'{self.name}, скорость в пределах нормы') \n",
    "\n",
    "    \n",
    "class SportCar(Car):\n",
    "    pass\n",
    "\n",
    "        \n",
    "class WorkCar(Car):    \n",
    "    def show_speed(self):\n",
    "        print(f'Текущая скорость {self.name} {self.speed}')\n",
    "        \n",
    "        if self.speed > 40:\n",
    "            print(f'{self.name}, превышение скорости') \n",
    "        else:\n",
    "            print(f'{self.name}, скорость в пределах нормы')    \n",
    "\n",
    "class PoliceCar(Car):\n",
    "    pass\n",
    "\n",
    "tc = TownCar(60, 'black', 'Ford', False)\n",
    "tc.show_speed()"
   ]
  },
  {
   "cell_type": "markdown",
   "metadata": {},
   "source": [
    "#### 5. Реализовать класс Stationery (канцелярская принадлежность). Определить в нем атрибут title (название) и метод draw (отрисовка). Метод выводит сообщение “Запуск отрисовки.” Создать три дочерних класса Pen (ручка), Pencil (карандаш), Handle (маркер). В каждом из классов реализовать переопределение метода draw. Для каждого из классов методы должен выводить уникальное сообщение. Создать экземпляры классов и проверить, что выведет описанный метод для каждого экземпляра."
   ]
  },
  {
   "cell_type": "code",
   "execution_count": 47,
   "metadata": {},
   "outputs": [
    {
     "name": "stdout",
     "output_type": "stream",
     "text": [
      "Отрисовка ручкой\n"
     ]
    }
   ],
   "source": [
    "class Stationery():\n",
    "    def __init__(self, title):\n",
    "        self.title = title\n",
    "    \n",
    "    def draw(self):\n",
    "        print('Запуск отрисовки')\n",
    "        \n",
    "        \n",
    "class Pen(Stationery):\n",
    "    def draw(self):\n",
    "        print('Отрисовка ручкой')\n",
    "    \n",
    "    \n",
    "class Pencil():\n",
    "    def draw(self):\n",
    "        print('Отрисовка карандашом')\n",
    "    \n",
    "    \n",
    "class Handle():\n",
    "    def draw(self):\n",
    "        print('Отрисовка маркером')\n",
    "        \n",
    "        \n",
    "drawing1 = Pen('Ручка')\n",
    "drawing1.draw()"
   ]
  }
 ],
 "metadata": {
  "kernelspec": {
   "display_name": "Python 3",
   "language": "python",
   "name": "python3"
  },
  "language_info": {
   "codemirror_mode": {
    "name": "ipython",
    "version": 3
   },
   "file_extension": ".py",
   "mimetype": "text/x-python",
   "name": "python",
   "nbconvert_exporter": "python",
   "pygments_lexer": "ipython3",
   "version": "3.7.4"
  }
 },
 "nbformat": 4,
 "nbformat_minor": 2
}
