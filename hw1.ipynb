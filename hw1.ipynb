{
 "cells": [
  {
   "cell_type": "markdown",
   "metadata": {},
   "source": [
    "# Практическое задание 1"
   ]
  },
  {
   "cell_type": "markdown",
   "metadata": {},
   "source": [
    "## 1"
   ]
  },
  {
   "cell_type": "code",
   "execution_count": null,
   "metadata": {},
   "outputs": [],
   "source": [
    "a = 3\n",
    "print(a)\n",
    "b = \"Hello world\"\n",
    "c = int(input(\"Введите число: \"))\n",
    "print(c)\n",
    "d = input(\"Введите слово: \")\n",
    "print(d)"
   ]
  },
  {
   "cell_type": "markdown",
   "metadata": {},
   "source": [
    "## 2"
   ]
  },
  {
   "cell_type": "code",
   "execution_count": 3,
   "metadata": {},
   "outputs": [
    {
     "name": "stdout",
     "output_type": "stream",
     "text": [
      "Введите время в секундах: 4200\n",
      "1:10:00\n"
     ]
    }
   ],
   "source": [
    "a = int(input(\"Введите время в секундах: \"))\n",
    "h = a // 3600\n",
    "m = (a - h*3600) // 60\n",
    "s = a - h*3600 - m*60\n",
    "print(f'{h:d}:{m:02d}:{s:02d}')"
   ]
  },
  {
   "cell_type": "markdown",
   "metadata": {},
   "source": [
    "## 3"
   ]
  },
  {
   "cell_type": "code",
   "execution_count": 4,
   "metadata": {},
   "outputs": [
    {
     "name": "stdout",
     "output_type": "stream",
     "text": [
      "Введите число: 3\n",
      "369\n"
     ]
    }
   ],
   "source": [
    "n = input(\"Введите число: \")\n",
    "print(int(n) + int(n+n) + int(n+n+n))"
   ]
  },
  {
   "cell_type": "markdown",
   "metadata": {},
   "source": [
    "## 4"
   ]
  },
  {
   "cell_type": "code",
   "execution_count": 23,
   "metadata": {},
   "outputs": [
    {
     "name": "stdout",
     "output_type": "stream",
     "text": [
      "Введите число: \n",
      "[]\n"
     ]
    }
   ],
   "source": [
    "n = input(\"Введите число: \")\n",
    "a = list(n)\n",
    "i = 0\n",
    "max = a[0]\n",
    "while i < len(a):\n",
    "    if max < a[i]\n",
    "    i = i + 1\n",
    "print(max)"
   ]
  },
  {
   "cell_type": "markdown",
   "metadata": {},
   "source": [
    "## 5"
   ]
  },
  {
   "cell_type": "code",
   "execution_count": null,
   "metadata": {},
   "outputs": [],
   "source": [
    "v = int(input(\"Введите выручку: \"))\n",
    "iz = int(input((\"Введите издержки: \")))\n",
    "if v > iz : \n",
    "    print(\"Прибыль\")\n",
    "    print(\"Рентабельность выручки: \" + str((v-iz) / v))\n",
    "    n = int(input(\"Введите численность сотрудников фирмы: \"))\n",
    "    print(\"Прибыль на одного сотрудника: \" + str((v - iz) / n))\n",
    "else : \n",
    "    print(\"Убыток\")"
   ]
  },
  {
   "cell_type": "markdown",
   "metadata": {},
   "source": [
    "## 6"
   ]
  },
  {
   "cell_type": "code",
   "execution_count": 34,
   "metadata": {},
   "outputs": [
    {
     "name": "stdout",
     "output_type": "stream",
     "text": [
      "3\n",
      "5\n",
      "на 7 день спортсмен достиг результата — не менее 5 км\n"
     ]
    }
   ],
   "source": [
    "a = int(input())\n",
    "b = int(input())\n",
    "i = 1\n",
    "res = a\n",
    "while res < b :\n",
    "    res = res * 1.1\n",
    "    i = i + 1\n",
    "print(\"на \" + str(i) + \" день спортсмен достиг результата — не менее \" + str(b) + \" км\")"
   ]
  }
 ],
 "metadata": {
  "kernelspec": {
   "display_name": "Python 3",
   "language": "python",
   "name": "python3"
  },
  "language_info": {
   "codemirror_mode": {
    "name": "ipython",
    "version": 3
   },
   "file_extension": ".py",
   "mimetype": "text/x-python",
   "name": "python",
   "nbconvert_exporter": "python",
   "pygments_lexer": "ipython3",
   "version": "3.8.5"
  }
 },
 "nbformat": 4,
 "nbformat_minor": 4
}
