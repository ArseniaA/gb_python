{
 "cells": [
  {
   "cell_type": "markdown",
   "metadata": {},
   "source": [
    "# Практическое задание 2"
   ]
  },
  {
   "cell_type": "markdown",
   "metadata": {},
   "source": [
    "## 1"
   ]
  },
  {
   "cell_type": "code",
   "execution_count": 1,
   "metadata": {},
   "outputs": [
    {
     "name": "stdout",
     "output_type": "stream",
     "text": [
      "5 <class 'int'>\n",
      "Привет <class 'str'>\n",
      "True <class 'bool'>\n",
      "15.3 <class 'float'>\n",
      "None <class 'NoneType'>\n"
     ]
    }
   ],
   "source": [
    "my_list = [5, 'Привет', True, 15.3, None]\n",
    "for i in range(len(my_list)):\n",
    "    print(my_list[i], type(my_list[i]))"
   ]
  },
  {
   "cell_type": "markdown",
   "metadata": {},
   "source": [
    "## 2"
   ]
  },
  {
   "cell_type": "code",
   "execution_count": 29,
   "metadata": {},
   "outputs": [
    {
     "name": "stdout",
     "output_type": "stream",
     "text": [
      "6\n",
      "1\n",
      "2\n",
      "3\n",
      "4\n",
      "5\n",
      "6\n",
      "[1, 2, 3, 4, 5, 6]\n",
      "[2, 1, 4, 3, 6, 5]\n"
     ]
    }
   ],
   "source": [
    "a = []\n",
    "for i in range(int(input())):\n",
    "    a.append(int(input()))\n",
    "print(a)\n",
    "el = 0\n",
    "if len(a) % 2 == 0 :\n",
    "    for el in range(0, len(a), 2):\n",
    "        a[el], a[el+1] = a[el+1], a[el]\n",
    "print(a)"
   ]
  },
  {
   "cell_type": "markdown",
   "metadata": {},
   "source": [
    "## 3"
   ]
  },
  {
   "cell_type": "code",
   "execution_count": 40,
   "metadata": {},
   "outputs": [
    {
     "name": "stdout",
     "output_type": "stream",
     "text": [
      "Введите номер месяца: 5\n",
      "Весна\n"
     ]
    }
   ],
   "source": [
    "seasons1 = {1 : 'Зима', 2 : 'Зима', 12 : 'Зима', 3 : 'Весна', 4 : 'Весна', 5 : 'Весна', 6 : 'Лето', 7 : 'Лето', 8 : 'Лето', 9 : 'Осень', 10 : 'Осень', 11 : 'Осень'}\n",
    "n = int(input(\"Введите номер месяца: \"))\n",
    "print(seasons1.get(n))"
   ]
  },
  {
   "cell_type": "code",
   "execution_count": 48,
   "metadata": {},
   "outputs": [
    {
     "name": "stdout",
     "output_type": "stream",
     "text": [
      "Введите номер месяца: 2\n",
      "Зима\n"
     ]
    }
   ],
   "source": [
    "seasons2 = ['Зима', 'Зима', 'Весна', 'Весна', 'Весна', 'Лето', 'Лето', 'Лето', 'Осень', 'Осень', 'Осень', 'Зима']\n",
    "n = int(input(\"Введите номер месяца: \"))\n",
    "for m in range(len(seasons2)) :\n",
    "    if n - 1 == m :\n",
    "        print(seasons2[m])"
   ]
  },
  {
   "cell_type": "markdown",
   "metadata": {},
   "source": [
    "## 4"
   ]
  },
  {
   "cell_type": "code",
   "execution_count": null,
   "metadata": {},
   "outputs": [],
   "source": [
    "n = input(\"Введите строку из нескольких слов: \").split()\n",
    "i = 1\n",
    "for word in n:\n",
    "    if len(word) > 10 :\n",
    "        print(f\"{i} строка {word[0:10]}\")\n",
    "    else :  \n",
    "        print(f\"{i} строка {word}\")\n",
    "    i += 1"
   ]
  },
  {
   "cell_type": "markdown",
   "metadata": {},
   "source": [
    "## 5"
   ]
  },
  {
   "cell_type": "code",
   "execution_count": 44,
   "metadata": {},
   "outputs": [
    {
     "name": "stdout",
     "output_type": "stream",
     "text": [
      "4\n",
      "1\n",
      "2\n",
      "3\n",
      "4\n",
      "Рейтинг: [4, 3, 2, 1]\n",
      "Введите ваш рейтинг: 0\n",
      "Новый рейтинг: [4, 3, 2, 1, 0]\n"
     ]
    }
   ],
   "source": [
    "a = []\n",
    "for i in range(int(input())) :\n",
    "    a.append(int(input()))\n",
    "a.sort(reverse = True)\n",
    "print(f\"Рейтинг: {a}\")\n",
    "n = int(input(\"Введите ваш рейтинг: \"))\n",
    "for el in range(len(a)) :\n",
    "    if n == a[el] :\n",
    "        a.insert(el + 1, n)\n",
    "        break\n",
    "    elif n > a[0] :\n",
    "        a.insert(0, n)\n",
    "        break\n",
    "    elif n < a[-1] :\n",
    "        a.append(n)\n",
    "        break\n",
    "    elif n < a[el] and n > a[el+1] :\n",
    "        a.insert(el+1, n)\n",
    "        break\n",
    "print(f\"Новый рейтинг: {a}\")"
   ]
  },
  {
   "cell_type": "markdown",
   "metadata": {},
   "source": [
    "## 6"
   ]
  },
  {
   "cell_type": "code",
   "execution_count": 45,
   "metadata": {},
   "outputs": [
    {
     "name": "stdout",
     "output_type": "stream",
     "text": [
      "Would you like add product? Enter yes/no: yes\n",
      "Enter product number: 1\n",
      "Would you like add product parameters? Enter yes/no: yes\n",
      "Enter feature product: название\n",
      "Enter feature value product: комп\n",
      "Would you like add product parameters? Enter yes/no: yes\n",
      "Enter feature product: цена\n",
      "Enter feature value product: 11\n",
      "Would you like add product parameters? Enter yes/no: no\n",
      "Would you like add product? Enter yes/no: yes\n",
      "Enter product number: 2\n",
      "Would you like add product parameters? Enter yes/no: yes\n",
      "Enter feature product: название\n",
      "Enter feature value product: кальк\n",
      "Would you like add product parameters? Enter yes/no: yes\n",
      "Enter feature product: цена\n",
      "Enter feature value product: 12\n",
      "Would you like add product parameters? Enter yes/no: no\n",
      "Would you like add product? Enter yes/no: yes\n",
      "Enter product number: 13\n",
      "Would you like add product parameters? Enter yes/no: yes\n",
      "Enter feature product: название\n",
      "Enter feature value product: \n",
      "Would you like add product parameters? Enter yes/no: yes\n",
      "Enter feature product: цена\n",
      "Enter feature value product: 15\n",
      "Would you like add product parameters? Enter yes/no: no\n",
      "Would you like add product? Enter yes/no: no\n",
      "[(1, {'название': 'комп', 'цена': '11'}), (2, {'название': 'кальк', 'цена': '12'}), (13, {'название': '', 'цена': '15'})]\n",
      "{'название': ['комп', 'кальк', ''], 'цена': ['11', '12', '15']}\n"
     ]
    }
   ],
   "source": [
    "t = []\n",
    "while input(\"Добавить продукт? - \") == 'Да':\n",
    "    n = int(input(\"Введите номер продукта: \"))\n",
    "    features = {}\n",
    "    while input(\"Добавить параметры продукта? - \") == 'yes':\n",
    "        feature_key = input(\"Enter feature product: \")\n",
    "        feature_value = input(\"Enter feature value product: \")\n",
    "        features[feature_key] = feature_value\n",
    "    t.append(tuple([number, features]))\n",
    "print(goods)\n",
    "analitics = {}\n",
    "for good in goods:\n",
    "    for feature_key, feature_value in good[1].items():\n",
    "        if feature_key in analitics:\n",
    "            analitics[feature_key].append(feature_value)\n",
    "        else:\n",
    "         analitics[feature_key] = [feature_value]\n",
    "print(analitics)"
   ]
  }
 ],
 "metadata": {
  "kernelspec": {
   "display_name": "Python 3",
   "language": "python",
   "name": "python3"
  },
  "language_info": {
   "codemirror_mode": {
    "name": "ipython",
    "version": 3
   },
   "file_extension": ".py",
   "mimetype": "text/x-python",
   "name": "python",
   "nbconvert_exporter": "python",
   "pygments_lexer": "ipython3",
   "version": "3.7.4"
  }
 },
 "nbformat": 4,
 "nbformat_minor": 2
}
